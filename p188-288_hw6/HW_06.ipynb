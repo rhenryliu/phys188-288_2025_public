{
 "cells": [
  {
   "cell_type": "code",
   "execution_count": null,
   "id": "953fad6f",
   "metadata": {
    "deletable": false,
    "editable": false
   },
   "outputs": [],
   "source": [
    "# Initialize Otter\n",
    "import otter\n",
    "grader = otter.Notebook(\"HW_06.ipynb\")"
   ]
  },
  {
   "cell_type": "code",
   "execution_count": null,
   "id": "9cf3c0f4-1584-44ab-83ef-9bf9e60d501b",
   "metadata": {},
   "outputs": [],
   "source": [
    "rng_seed = 42"
   ]
  },
  {
   "cell_type": "markdown",
   "id": "be98af87-c4a4-41bf-9705-6172373f8346",
   "metadata": {},
   "source": [
    "# Homework 6\n",
    "\n",
    "## K-Means Image Analysis, Neural Networks"
   ]
  },
  {
   "cell_type": "markdown",
   "id": "cdab7dec",
   "metadata": {},
   "source": [
    "## Problem 1: Flower Image Analysis\n",
    "### 1) Objective\n",
    "\n",
    "Before Convolutional Neural Networks (CNN) became available, K-means was an efficient method to segment images. Each pixel is represented by its RGB color vector. If we assume that pixel which belong to the same object should have the same color, then K-means should be able to cluster the pixel accordingly and therefore segment the image.<br> \n",
    "We want to analyze the Oxford 102 Flower Dataset using K-means clustering, hierarchical clustering, and decision tree classification and later in the course compare the results we obtain here to what we obtain using CNNs.<br>\n",
    "<br>\n",
    "\n",
    "### 2) Preparation\n",
    "\n",
    "Before starting, we need to import the necessary libraries for data analysis and visualization.<br>\n",
    "First, we import the standard libraries: "
   ]
  },
  {
   "cell_type": "code",
   "execution_count": null,
   "id": "6571d5b9",
   "metadata": {},
   "outputs": [],
   "source": [
    "import numpy as np\n",
    "import seaborn as sns\n",
    "import matplotlib.pyplot as plt\n",
    "from matplotlib.colors import rgb_to_hsv, hsv_to_rgb\n",
    "from scipy.spatial.distance import pdist, squareform"
   ]
  },
  {
   "cell_type": "markdown",
   "id": "4bb84277",
   "metadata": {},
   "source": [
    "Next, we need to load the dataset from `torchvision`"
   ]
  },
  {
   "cell_type": "code",
   "execution_count": null,
   "id": "45ccf25e-ff31-43ff-ae01-22e559e9db79",
   "metadata": {},
   "outputs": [],
   "source": [
    "from torchvision.datasets import Flowers102 #pip install torchvision if necessary"
   ]
  },
  {
   "cell_type": "markdown",
   "id": "bbf7d7b0-fbd7-413b-899a-90e060187277",
   "metadata": {},
   "source": [
    "Finally, we import our clustering methods:"
   ]
  },
  {
   "cell_type": "code",
   "execution_count": null,
   "id": "8c56c90e-0bad-464a-b8f2-c76421bfc8f7",
   "metadata": {},
   "outputs": [],
   "source": [
    "from sklearn.cluster import KMeans\n",
    "from sklearn.tree import DecisionTreeClassifier, plot_tree\n",
    "from sklearn.metrics import confusion_matrix, ConfusionMatrixDisplay"
   ]
  },
  {
   "cell_type": "markdown",
   "id": "6899b272-fc30-4e00-9c21-16b1459dfe7b",
   "metadata": {},
   "source": [
    "<br>"
   ]
  },
  {
   "cell_type": "markdown",
   "id": "b5f63154-2379-4035-8c7d-c0d296c89896",
   "metadata": {},
   "source": [
    "The dataset from `torchvision` contains various flower images and their corresponding labels.<br>\n",
    "Run the following lines (it might take a few minutes!)."
   ]
  },
  {
   "cell_type": "code",
   "execution_count": null,
   "id": "04812cd7-d279-4313-b8a7-731fbd3405d1",
   "metadata": {},
   "outputs": [],
   "source": [
    "transforms = lambda x: np.array(x) / 255\n",
    "dataset_train = Flowers102(root='Data', split='train', download=True, transform=transforms)\n",
    "dataset_val = Flowers102(root='Data', split='val', download=True, transform=transforms)\n",
    "dataset_test = Flowers102(root='Data', split='test', download=True, transform=transforms)\n",
    "labels_train = np.array(dataset_train._labels)\n",
    "labels_val = np.array(dataset_val._labels)\n",
    "labels_test = np.array(dataset_test._labels)"
   ]
  },
  {
   "cell_type": "code",
   "execution_count": null,
   "id": "4713389d-32f4-456d-aedb-66ceefc255cf",
   "metadata": {},
   "outputs": [],
   "source": [
    "classes = np.array([\"pink primrose\", \"hard-leaved pocket orchid\", \"canterbury bells\", \"sweet pea\",\"english marigold\",\"tiger lily\", \"moon orchid\",\n",
    "    \"bird of paradise\", \"monkshood\",\"globe thistle\", \"snapdragon\",\"colt's foot\",\"king protea\",\"spear thistle\",\"yellow iris\",\"globe-flower\",\n",
    "    \"purple coneflower\", \"peruvian lily\", \"balloon flower\", \"giant white arum lily\",\"fire lily\",\"pincushion flower\", \"fritillary\", \"red ginger\",\n",
    "    \"grape hyacinth\",\"corn poppy\", \"prince of wales feathers\",\"stemless gentian\",\"artichoke\",\"sweet william\",\"carnation\", \"garden phlox\",\n",
    "    \"love in the mist\",\"mexican aster\", \"alpine sea holly\", \"ruby-lipped cattleya\", \"cape flower\", \"great masterwort\", \"siam tulip\",  \"lenten rose\",\n",
    "    \"barbeton daisy\", \"daffodil\", \"sword lily\", \"poinsettia\", \"bolero deep blue\", \"wallflower\",\"marigold\", \"buttercup\", \"oxeye daisy\",\n",
    "    \"common dandelion\", \"petunia\", \"wild pansy\",\"primula\", \"sunflower\",\"pelargonium\", \"bishop of llandaff\", \"gaura\", \"geranium\", \"orange dahlia\",\n",
    "    \"pink-yellow dahlia?\",\"cautleya spicata\", \"japanese anemone\", \"black-eyed susan\", \"silverbush\", \"californian poppy\", \"osteospermum\",\n",
    "    \"spring crocus\", \"bearded iris\", \"windflower\", \"tree poppy\", \"gazania\", \"azalea\", \"water lily\",\"rose\", \"thorn apple\", \"morning glory\",\n",
    "    \"passion flower\", \"lotus\", \"toad lily\", \"anthurium\", \"frangipani\", \"clematis\", \"hibiscus\", \"columbine\", \"desert-rose\", \"tree mallow\", \"magnolia\",\n",
    "    \"cyclamen\",  \"watercress\", \"canna lily\", \"hippeastrum\", \"bee balm\", \"ball moss\", \"foxglove\", \"bougainvillea\",\"camellia\",\"mallow\",\"mexican petunia\",\n",
    "    \"bromelia\", \"blanket flower\", \"trumpet creeper\", \"blackberry lily\"])"
   ]
  },
  {
   "cell_type": "markdown",
   "id": "61fac27d-c9d1-4d88-bd9c-cad577fedd97",
   "metadata": {
    "deletable": false,
    "editable": false
   },
   "source": [
    "<!-- BEGIN QUESTION -->\n",
    "\n",
    "<br>"
   ]
  },
  {
   "cell_type": "markdown",
   "id": "7df4b28d-ff25-409d-bd6e-ea663c0fd1fb",
   "metadata": {
    "deletable": false,
    "editable": false
   },
   "source": [
    "2.1) We can display images in python using `plt.imshow(x)`, where *x* is the image. Show the first image from the dataset to understand what the data looks like."
   ]
  },
  {
   "cell_type": "code",
   "execution_count": null,
   "id": "5d008052-a585-4cf9-b2f3-89f3c0312569",
   "metadata": {
    "scrolled": true,
    "tags": [
     "otter_answer_cell"
    ]
   },
   "outputs": [],
   "source": [
    "index = 0 #first image\n",
    "x, y = dataset_train[index] #x: image, y: the label, classes[y]: the actual name of the flower (type str) \n",
    "\n",
    "######## Fill in the code below ########\n",
    "...\n",
    "########################################"
   ]
  },
  {
   "cell_type": "markdown",
   "id": "7244271a-f5a2-42f0-a547-af5a0b6e41b5",
   "metadata": {
    "deletable": false,
    "editable": false
   },
   "source": [
    "<!-- END QUESTION -->\n",
    "\n",
    "<!-- BEGIN QUESTION -->\n",
    "\n",
    "<br>"
   ]
  },
  {
   "cell_type": "markdown",
   "id": "2ca62e84-92e3-47ef-9ecf-a6ec842a64cf",
   "metadata": {
    "deletable": false,
    "editable": false
   },
   "source": [
    "2.2) Print the shape and type of the image. Generate three plots, each showing the image only in one color channel in gray scale (`cmap='gray'`)! "
   ]
  },
  {
   "cell_type": "code",
   "execution_count": null,
   "id": "28ee19c7-b402-45ee-8bd8-1c2170263b3b",
   "metadata": {
    "tags": [
     "otter_answer_cell"
    ]
   },
   "outputs": [],
   "source": [
    "######## Fill in the code below ########\n",
    "...\n",
    "########################################"
   ]
  },
  {
   "cell_type": "markdown",
   "id": "5459de99-be8f-47b2-8c6f-d9649119c801",
   "metadata": {
    "deletable": false,
    "editable": false
   },
   "source": [
    "<!-- END QUESTION -->\n",
    "\n",
    "<!-- BEGIN QUESTION -->\n",
    "\n",
    "<br>"
   ]
  },
  {
   "cell_type": "markdown",
   "id": "9f197e26",
   "metadata": {
    "deletable": false,
    "editable": false
   },
   "source": [
    "2.3) Show an image in the first 8 classes from the dataset to understand what the data looks like."
   ]
  },
  {
   "cell_type": "code",
   "execution_count": null,
   "id": "259187ad",
   "metadata": {
    "tags": [
     "otter_answer_cell"
    ]
   },
   "outputs": [],
   "source": [
    "indices = [0, 10, 20, 30, 40, 50, 60, 70]\n",
    "\n",
    "######## Fill in the code below ########\n",
    "...\n",
    "########################################"
   ]
  },
  {
   "cell_type": "markdown",
   "id": "2e49738c-4c8f-459d-b04c-e19a713b1de0",
   "metadata": {
    "deletable": false,
    "editable": false
   },
   "source": [
    "<!-- END QUESTION -->\n",
    "\n",
    "<!-- BEGIN QUESTION -->\n",
    "\n",
    "<br>"
   ]
  },
  {
   "cell_type": "markdown",
   "id": "ba83e17a",
   "metadata": {
    "deletable": false,
    "editable": false
   },
   "source": [
    "### 3) Image Segmentation\n",
    "\n",
    "3.1) Segment the first image in the training set using K-means clustering. Reshape the image into a 2D array where each row represents a pixel and each column represents a color channel (RGB), and then apply K-means clustering to cluster the pixels. Visualize the segmented image and discuss what you observe."
   ]
  },
  {
   "cell_type": "code",
   "execution_count": null,
   "id": "6661692e",
   "metadata": {
    "tags": [
     "otter_answer_cell"
    ]
   },
   "outputs": [],
   "source": [
    "index = 0\n",
    "\n",
    "######## Fill in the code below ########\n",
    "...\n",
    "########################################"
   ]
  },
  {
   "cell_type": "markdown",
   "id": "f7654160",
   "metadata": {
    "deletable": false,
    "editable": false
   },
   "source": [
    "<!-- END QUESTION -->\n",
    "\n",
    "<!-- BEGIN QUESTION -->\n",
    "\n",
    "> The segmented image shows distinct color regions corresponding to different parts of the flower and background. Visually, the first cluster represents the background, the second cluster represents the flower, and the third cluster represents the stems. This segmentation helps in identifying different components of the image based on color similarity."
   ]
  },
  {
   "cell_type": "markdown",
   "id": "e86d0d0e",
   "metadata": {
    "deletable": false,
    "editable": false
   },
   "source": [
    "3.2) Visualize the center of each cluster as a color using `plt.imshow(colors.reshape(.., .., ..))`. What does this tell you about the image?"
   ]
  },
  {
   "cell_type": "code",
   "execution_count": null,
   "id": "5f25eecb",
   "metadata": {
    "tags": [
     "otter_answer_cell"
    ]
   },
   "outputs": [],
   "source": [
    "######## Fill in the code below ########\n",
    "...\n",
    "########################################"
   ]
  },
  {
   "cell_type": "markdown",
   "id": "e51010a4",
   "metadata": {
    "deletable": false,
    "editable": false
   },
   "source": [
    "<!-- END QUESTION -->\n",
    "\n",
    "<!-- BEGIN QUESTION -->\n",
    "\n",
    "> The cluster centers represent the dominant colors in the image. The first cluster center is a shade of dark green corresponding to the ground, the second cluster center is a shade of pinkish purple corresponding to the flower, and the third cluster center is a shade of brown corresponding to the stems. This indicates that the image has distinct color regions that can be effectively captured using K-means clustering."
   ]
  },
  {
   "cell_type": "markdown",
   "id": "1bcb3deb",
   "metadata": {
    "deletable": false,
    "editable": false
   },
   "source": [
    "3.3) Reconstruct the image using the cluster centers and the labels assigned to each pixel. Does the reconstructed image capture the main features of the original image? Discuss your observations."
   ]
  },
  {
   "cell_type": "markdown",
   "id": "8c220a57",
   "metadata": {
    "tags": [
     "otter_answer_cell"
    ]
   },
   "source": [
    "_Type your answer here, replacing this text._"
   ]
  },
  {
   "cell_type": "code",
   "execution_count": null,
   "id": "e5706d1c",
   "metadata": {
    "tags": [
     "otter_answer_cell"
    ]
   },
   "outputs": [],
   "source": [
    "..."
   ]
  },
  {
   "cell_type": "markdown",
   "id": "6dc3c77f",
   "metadata": {
    "deletable": false,
    "editable": false
   },
   "source": [
    "<!-- END QUESTION -->\n",
    "\n",
    "<!-- BEGIN QUESTION -->\n",
    "\n",
    "### 4) Image Clustering\n",
    "\n",
    "4.1) Use hierarchical clustering (`sns.clustermap`) to cluster the first 8 classes of images in the training set. Compute the mean color of the first image in the class and use the mean colors as features. Next, based on the mean colors, generate a distance square matrix (you can use `pdist(your_means, metric='euclidean')`) for clustering. Visualize the resulting dendrogram and discuss what you observe."
   ]
  },
  {
   "cell_type": "markdown",
   "id": "c515ee6b",
   "metadata": {
    "tags": [
     "otter_answer_cell"
    ]
   },
   "source": [
    "_Type your answer here, replacing this text._"
   ]
  },
  {
   "cell_type": "code",
   "execution_count": null,
   "id": "605a7c5b",
   "metadata": {
    "tags": [
     "otter_answer_cell"
    ]
   },
   "outputs": [],
   "source": [
    "indices = [0, 10, 20, 30, 40, 50, 60, 70]\n",
    "ticks = classes[labels_train[indices]]\n",
    "\n",
    "######## Fill in the code below ########\n",
    "...\n",
    "########################################"
   ]
  },
  {
   "cell_type": "markdown",
   "id": "aa38514f-fb6e-4b40-8bf2-769d5464efa9",
   "metadata": {
    "deletable": false,
    "editable": false
   },
   "source": [
    "<!-- END QUESTION -->\n",
    "\n",
    "<!-- BEGIN QUESTION -->\n",
    "\n",
    "<br>"
   ]
  },
  {
   "cell_type": "markdown",
   "id": "ed9505c4",
   "metadata": {
    "deletable": false,
    "editable": false
   },
   "source": [
    "### 5) Classification\n",
    "\n",
    "5.1) Perform decision tree classification using `DecisionTreeClassifier` to predict the flower species based on the features from the K-means clustering. Train the decision tree classifier for class 0 (pink primrose) and class 4 (english marigold) on the training set and evaluate its performance on the validation set by creating a **confusion matrix plot** for both, training and evaluation set. Discuss why or why not the features from K-means clustering might be effective for this classification task."
   ]
  },
  {
   "cell_type": "markdown",
   "id": "67d4b5d5",
   "metadata": {
    "tags": [
     "otter_answer_cell"
    ]
   },
   "source": [
    "_Type your answer here, replacing this text._"
   ]
  },
  {
   "cell_type": "code",
   "execution_count": null,
   "id": "f6078037",
   "metadata": {
    "tags": [
     "otter_answer_cell"
    ]
   },
   "outputs": [],
   "source": [
    "indices_train = np.array([0, 1, 2, 3, 4, 5, 6, 7, 8, 9, 40, 41, 42, 43, 44, 45, 46, 47, 48, 49])\n",
    "indices_val = np.array([0, 1, 2, 3, 4, 5, 6, 7, 8, 9, 40, 41, 42, 43, 44, 45, 46, 47, 48, 49])\n",
    "\n",
    "######## Fill in the code below ########\n",
    "def extract_features(image, n_clusters=2):\n",
    "    ...\n",
    "\n",
    "...\n",
    "\n",
    "tree = DecisionTreeClassifier(random_state=rng_seed) \n",
    "tree.fit(x_train, y_train)\n",
    "\n",
    "...\n",
    "########################################"
   ]
  },
  {
   "cell_type": "markdown",
   "id": "8dd2a238",
   "metadata": {
    "deletable": false,
    "editable": false
   },
   "source": [
    "<!-- END QUESTION -->\n",
    "\n",
    "<!-- BEGIN QUESTION -->\n",
    "\n",
    "5.2) Visualize the decision tree and interpret the results. Discuss which features are most important for classification and how well the model performs. You can visualize the features as colors to help interpret the decision tree."
   ]
  },
  {
   "cell_type": "markdown",
   "id": "67d8f705",
   "metadata": {
    "tags": [
     "otter_answer_cell"
    ]
   },
   "source": [
    "_Type your answer here, replacing this text._"
   ]
  },
  {
   "cell_type": "code",
   "execution_count": null,
   "id": "cd404db6",
   "metadata": {
    "tags": [
     "otter_answer_cell"
    ]
   },
   "outputs": [],
   "source": [
    "..."
   ]
  },
  {
   "cell_type": "markdown",
   "id": "3fb882e7",
   "metadata": {
    "deletable": false,
    "editable": false
   },
   "source": [
    "<!-- END QUESTION -->\n",
    "\n",
    "<!-- BEGIN QUESTION -->\n",
    "\n",
    "5.3) Try a little more feature engineering by, for example, converting the RGB color space to HSV color space (`image = rgb_to_hsv(image)`) before applying K-means clustering, as well as sorting the cluster centers before flattening them into a feature vector. See if these changes improve the classification performance."
   ]
  },
  {
   "cell_type": "markdown",
   "id": "8061514f",
   "metadata": {
    "tags": [
     "otter_answer_cell"
    ]
   },
   "source": [
    "_Type your answer here, replacing this text._"
   ]
  },
  {
   "cell_type": "code",
   "execution_count": null,
   "id": "bc5784bf",
   "metadata": {
    "tags": [
     "otter_answer_cell"
    ]
   },
   "outputs": [],
   "source": [
    "indices_train = np.array([0, 1, 2, 3, 4, 5, 6, 7, 8, 9, 40, 41, 42, 43, 44, 45, 46, 47, 48, 49])\n",
    "indices_val = np.array([0, 1, 2, 3, 4, 5, 6, 7, 8, 9, 40, 41, 42, 43, 44, 45, 46, 47, 48, 49])\n",
    "\n",
    "######## Fill in the code below ########\n",
    "...\n",
    "########################################"
   ]
  },
  {
   "cell_type": "markdown",
   "id": "e57caa39",
   "metadata": {
    "deletable": false,
    "editable": false
   },
   "source": [
    "<!-- END QUESTION -->\n",
    "\n",
    "<!-- BEGIN QUESTION -->\n",
    "\n",
    "5.4) Try your final classification method on class 0 (pink primrose) and class 1 (hard-leaved pocket orchid). How well does it perform? Discuss what kind of features we have not considered that might help improve the classification."
   ]
  },
  {
   "cell_type": "markdown",
   "id": "43b36c49",
   "metadata": {
    "tags": [
     "otter_answer_cell"
    ]
   },
   "source": [
    "_Type your answer here, replacing this text._"
   ]
  },
  {
   "cell_type": "code",
   "execution_count": null,
   "id": "48bd0ad0",
   "metadata": {
    "tags": [
     "otter_answer_cell"
    ]
   },
   "outputs": [],
   "source": [
    "indices_train = np.array([0, 1, 2, 3, 4, 5, 6, 7, 8, 9, 10, 11, 12, 13, 14, 15, 16, 17, 18, 19])\n",
    "indices_val = np.array([0, 1, 2, 3, 4, 5, 6, 7, 8, 9, 10, 11, 12, 13, 14, 15, 16, 17, 18, 19])\n",
    "\n",
    "######## Fill in the code below ########\n",
    "...\n",
    "########################################"
   ]
  },
  {
   "cell_type": "markdown",
   "id": "298784e0-46a5-4654-84df-0a677f2d7765",
   "metadata": {
    "deletable": false,
    "editable": false
   },
   "source": [
    "<!-- END QUESTION -->\n",
    "\n",
    "\n",
    "## Problem 2: Two Moons Classification with scikit-learn’s `MLPClassifier`\n",
    "\n",
    "In this problem, you’ll use **scikit-learn’s built-in multilayer perceptron (MLP)** to classify the famous **two-moons** dataset.\n",
    "\n",
    "You’ll explore how the architecture (number of hidden layers and neurons) and regularization affect decision boundaries and overfitting.\n",
    "\n",
    "---\n",
    "\n",
    "**What you’ll practice**\n",
    "- Using `MLPClassifier` from `sklearn.neural_network`\n",
    "- Controlling hyperparameters such as hidden-layer size, activation, solver, learning rate, and regularization\n",
    "- Visualizing loss curves and decision boundaries\n",
    "- Interpreting underfitting and overfitting behavior\n",
    "\n",
    "---\n",
    "\n",
    "**Rules**\n",
    "- You may use any parts of scikit-learn and matplotlib.\n",
    "- Do not use TensorFlow, PyTorch, or other deep learning frameworks.\n",
    "- Keep everything in this notebook.\n"
   ]
  },
  {
   "cell_type": "code",
   "execution_count": null,
   "id": "cab1a6f7-822a-44db-b0a2-d60d874cf229",
   "metadata": {},
   "outputs": [],
   "source": [
    "\n",
    "import numpy as np\n",
    "import matplotlib.pyplot as plt\n",
    "from sklearn.datasets import make_moons\n",
    "from sklearn.model_selection import train_test_split\n",
    "from sklearn.neural_network import MLPClassifier\n",
    "from sklearn.metrics import accuracy_score\n",
    "\n",
    "np.random.seed(rng_seed)"
   ]
  },
  {
   "cell_type": "markdown",
   "id": "50af2556-bf6f-41c7-a588-4c4ec480050b",
   "metadata": {
    "deletable": false,
    "editable": false
   },
   "source": [
    "<!-- BEGIN QUESTION -->\n",
    "\n",
    "### 1) Generate and visualize the two-moons dataset\n",
    "\n",
    "The dataset is generated through make_moons. You will need to split the dataset using train_test_split, with a 0.3 test size and setting the random_state to rng_seed. Plot a figure of your training data, with a different colour for each class."
   ]
  },
  {
   "cell_type": "code",
   "execution_count": null,
   "id": "f47300cf-4a23-4b91-8840-c3caea6bf47b",
   "metadata": {
    "tags": [
     "otter_answer_cell"
    ]
   },
   "outputs": [],
   "source": [
    "\n",
    "X, y = make_moons(n_samples=1000, noise=0.25, random_state=rng_seed)\n",
    "X_train, X_val, y_train, y_val = ...\n",
    "\n",
    "..."
   ]
  },
  {
   "cell_type": "markdown",
   "id": "25aa32d7-59ca-4e90-80f1-e92695b709dc",
   "metadata": {
    "deletable": false,
    "editable": false
   },
   "source": [
    "<!-- END QUESTION -->\n",
    "\n",
    "### 2) Train an `MLPClassifier`\n",
    "\n",
    "As you can see from above, the dataset generated is hard to classify with simpler methods such as k-means clustering or a linear regression. However, a simple Neural Network would be perfect for this task.\n",
    "\n",
    "Make use of the MLPClassifier class in sklearn, start with a small network, train and classify on the training sample. Experiment with different parameters in the network such as hidden_layer_sizes, activation, solver, alpha (regularization strength) and learning rates. To pass the test, you need a certain validation accuracy that would match with what we would expect\n",
    "\n"
   ]
  },
  {
   "cell_type": "code",
   "execution_count": null,
   "id": "372f8aa8-7d24-4e03-8cdb-36a6d756e326",
   "metadata": {
    "tags": [
     "otter_answer_cell"
    ]
   },
   "outputs": [],
   "source": [
    "# Define and train MLP\n",
    "mlp = ...\n",
    "...\n",
    "\n",
    "# Training results\n",
    "print(f\"Training accuracy: {mlp.score(X_train, y_train):.3f}\")\n",
    "print(f\"Validation accuracy: {mlp.score(X_val, y_val):.3f}\")"
   ]
  },
  {
   "cell_type": "code",
   "execution_count": null,
   "id": "e8e736b7",
   "metadata": {
    "deletable": false,
    "editable": false
   },
   "outputs": [],
   "source": [
    "grader.check(\"q2.2\")"
   ]
  },
  {
   "cell_type": "markdown",
   "id": "77b152d7-f1f4-4140-9723-571b0e8f647f",
   "metadata": {
    "deletable": false,
    "editable": false
   },
   "source": [
    "<!-- BEGIN QUESTION -->\n",
    "\n",
    "\n",
    "### 3) Inspect the training loss curve\n",
    "The attribute `mlp.loss_curve_` stores the loss per iteration. Plot the training loss curve\n"
   ]
  },
  {
   "cell_type": "code",
   "execution_count": null,
   "id": "99ca0598-4400-4470-aaff-445cede05de2",
   "metadata": {
    "tags": [
     "otter_answer_cell"
    ]
   },
   "outputs": [],
   "source": [
    "..."
   ]
  },
  {
   "cell_type": "markdown",
   "id": "709cece7-52ba-4b71-8dda-4d0a7fbee916",
   "metadata": {
    "deletable": false,
    "editable": false
   },
   "source": [
    "<!-- END QUESTION -->\n",
    "\n",
    "\n",
    "### 4) Cross-Validation of parameters\n",
    "\n",
    "As in many other ML models, finding the best set of model hyper-parameters is an important challenge. This becomes unfeasible for extremely large networks due to the large hyper-parameter space, but in our case here, it still remains very possible. Let us try to search for the optimal parameters for our model:\n",
    "\n",
    "Use `GridSearchCV` on a pipeline `Pipeline(StandardScaler, MLPClassifier(max_iter=700, random_state=rng_seed))` with:\n",
    "- `clf__hidden_layer_sizes`: `(8,), (32,), (64,), (32,32)`\n",
    "- `clf__alpha`: `1e-5, 1e-3, 1e-1`\n",
    "- `clf__activation`: `'relu', 'tanh'`\n",
    "\n",
    "Fit on **`X_train, y_train`** using `StratifiedKFold(n_splits=5, shuffle=True, random_state=rng_seed)`.  \n",
    "Store the fitted grid search in **`gs`** and the best estimator in **`best`**."
   ]
  },
  {
   "cell_type": "code",
   "execution_count": null,
   "id": "a29840d0-759f-4deb-882b-10202a37d049",
   "metadata": {
    "deletable": false,
    "editable": false
   },
   "outputs": [],
   "source": [
    "from sklearn.model_selection import GridSearchCV, StratifiedKFold\n",
    "import warnings\n",
    "from sklearn.exceptions import ConvergenceWarning\n",
    "\n",
    "warnings.simplefilter(\"ignore\", category=ConvergenceWarning)"
   ]
  },
  {
   "cell_type": "code",
   "execution_count": null,
   "id": "90bbff88-b75c-4715-9312-87a1ee791500",
   "metadata": {
    "tags": [
     "otter_answer_cell"
    ]
   },
   "outputs": [],
   "source": [
    "param_grid = {\n",
    "    \"hidden_layer_sizes\": [(8,), (32,), (64,), (32,32)],\n",
    "    \"alpha\": [1e-5, 1e-3, 1e-1],\n",
    "    \"activation\": [\"relu\", \"tanh\"],\n",
    "}\n",
    "mlp_cv = ...\n",
    "\n",
    "cv = ...\n",
    "gs = ...\n",
    "gs.fit(X_train, y_train)\n",
    "\n",
    "best = gs.best_estimator_\n",
    "print(\"Best params:\", gs.best_params_)\n",
    "print(\"CV best score:\", gs.best_score_)\n",
    "print(\"Best model val acc:\", best.score(X_val, y_val))"
   ]
  },
  {
   "cell_type": "code",
   "execution_count": null,
   "id": "ebc5a345",
   "metadata": {
    "deletable": false,
    "editable": false
   },
   "outputs": [],
   "source": [
    "grader.check(\"q2.4\")"
   ]
  },
  {
   "cell_type": "markdown",
   "id": "4c46deb2-cfdc-4a1e-82ea-efd26a8c0f46",
   "metadata": {
    "deletable": false,
    "editable": false
   },
   "source": [
    "<!-- BEGIN QUESTION -->\n",
    "\n",
    "\n",
    "### 5) Visualize the decision boundary\n",
    "\n",
    "Write some code to visiualize the decision boundary using your best MLPClassifier. Hint: you can do this by first making a np.meshgrid of values for x1, x2 and classifying every point on the grid with a probability. You can then use a contourf plot to plot the result."
   ]
  },
  {
   "cell_type": "code",
   "execution_count": null,
   "id": "027bfa3e-02ba-4961-adb7-34b8ac54e8e7",
   "metadata": {
    "tags": [
     "otter_answer_cell"
    ]
   },
   "outputs": [],
   "source": [
    "..."
   ]
  },
  {
   "cell_type": "markdown",
   "id": "6cca3b24-d8e2-43cb-aa2c-70df3cabe8fb",
   "metadata": {
    "deletable": false,
    "editable": false
   },
   "source": [
    "<!-- END QUESTION -->\n",
    "\n",
    "<!-- BEGIN QUESTION -->\n",
    "\n",
    "### 6) Confusion Matrix\n",
    "\n",
    "Plot the confusion matrix on the train and prediction data, using the best model from before."
   ]
  },
  {
   "cell_type": "code",
   "execution_count": null,
   "id": "b5dfa1e3-c5f3-4bbe-9902-3c07d092d4f5",
   "metadata": {
    "tags": [
     "otter_answer_cell"
    ]
   },
   "outputs": [],
   "source": [
    "print('Training accuracy:', best.score(X_train, y_train))\n",
    "cm = ...\n",
    "...\n",
    "\n",
    "print('Validation accuracy:', best.score(X_val, y_val))\n",
    "cm = ...\n",
    "..."
   ]
  },
  {
   "cell_type": "markdown",
   "id": "c6cd6ff3",
   "metadata": {
    "deletable": false,
    "editable": false
   },
   "source": [
    "<!-- END QUESTION -->\n",
    "\n"
   ]
  },
  {
   "cell_type": "markdown",
   "id": "9b513f2c",
   "metadata": {
    "deletable": false,
    "editable": false
   },
   "source": [
    "## Submission\n",
    "\n",
    "Make sure you have run all cells in your notebook in order before running the cell below, so that all images/graphs appear in the output. The cell below will generate a zip file for you to submit. **Please save before exporting!**\n",
    "\n",
    "Submit the zip file to Gradescope!"
   ]
  },
  {
   "cell_type": "code",
   "execution_count": null,
   "id": "188ac7f2",
   "metadata": {
    "deletable": false,
    "editable": false
   },
   "outputs": [],
   "source": [
    "# Save your notebook first, then run this cell to export your submission.\n",
    "grader.export()"
   ]
  },
  {
   "cell_type": "markdown",
   "id": "66ddd007",
   "metadata": {},
   "source": [
    " "
   ]
  }
 ],
 "metadata": {
  "kernelspec": {
   "display_name": "Python (Physics188-288)",
   "language": "python",
   "name": "shared"
  },
  "language_info": {
   "codemirror_mode": {
    "name": "ipython",
    "version": 3
   },
   "file_extension": ".py",
   "mimetype": "text/x-python",
   "name": "python",
   "nbconvert_exporter": "python",
   "pygments_lexer": "ipython3",
   "version": "3.11.13"
  },
  "otter": {
   "OK_FORMAT": true,
   "assignment_name": "p188_288_hw5",
   "tests": {
    "q2.2": {
     "name": "q2.2",
     "points": 2,
     "suites": [
      {
       "cases": [
        {
         "code": ">>> tr2, va2 = (mlp.score(X_train, y_train), mlp.score(X_val, y_val))\n>>> assert va2 >= 0.92, f'Expected validation accuracy >= 0.92; got {va2:.3f}.'\n>>> print('q2.2 public tests passed.')\nq2.2 public tests passed.\n",
         "hidden": false,
         "locked": false
        }
       ],
       "scored": true,
       "setup": "",
       "teardown": "",
       "type": "doctest"
      }
     ]
    },
    "q2.4": {
     "name": "q2.4",
     "points": 3,
     "suites": [
      {
       "cases": [
        {
         "code": ">>> assert 'gs' in globals() and 'best' in globals(), 'Missing `gs` or `best`.'\n>>> from sklearn.model_selection import GridSearchCV as _GSCV\n>>> assert isinstance(gs, _GSCV), '`gs` should be a GridSearchCV object.'\n>>> va_best = best.score(X_val, y_val)\n>>> assert va_best >= 0.925, f'Best model validation accuracy should be at least 0.925; got {va_best:.3f}.'\n>>> print('q2.4 public tests passed.')\nq2.4 public tests passed.\n",
         "hidden": false,
         "locked": false
        }
       ],
       "scored": true,
       "setup": "",
       "teardown": "",
       "type": "doctest"
      }
     ]
    }
   }
  }
 },
 "nbformat": 4,
 "nbformat_minor": 5
}
